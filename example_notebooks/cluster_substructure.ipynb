{
 "cells": [
  {
   "cell_type": "code",
   "execution_count": 1,
   "id": "b19c529e-5ba1-4dd1-bafa-17ca0e25a282",
   "metadata": {},
   "outputs": [],
   "source": [
    "from pyHalo.PresetModels.cdm import CDM \n",
    "import matplotlib.pyplot as plt \n",
    "import numpy as np "
   ]
  },
  {
   "cell_type": "markdown",
   "id": "88bd984d-d5a8-4f8f-801f-9d4123ccebb8",
   "metadata": {},
   "source": [
    "## Galaxy cluster substructure\n",
    "\n",
    "Some of the functionality built into pyHalo preset models imposes certain assumptions that are appropriate for massive elliptical galaxy deflectors, but not necessarily galaxy cluster environments. There assumptions are mainly related to tidal stripping of subhalos, and how the projected number of subhalos scales with the host halo mass and redshift. \n",
    "\n",
    "This notebook shows how to use the preset models in pyHalo without imposing these assumptions. In particular: \n",
    "- the keyword argument log10_dNdA specifies the amplitude of the cluster subhalo mass function directly in terms of the number of objects per square kpc (this omits automatic scalings with host halo mass and redshift calibrated for massive ellipticals)\n",
    "- the use of a new tidal stripping model TruncationBoundMassPDF allows one to use the functionality in pyHalo to get subhalo density profiles from tidal tracks, but allows the user to specify the distribution of bound masses, rather than calculating the bound masses using a tidal stripping model calibrated for galaxies"
   ]
  },
  {
   "cell_type": "markdown",
   "id": "3a7e5e6f-6585-450e-9f53-37a0fe3246ed",
   "metadata": {},
   "source": [
    "\\begin{equation}\n",
    "\\frac{d^2N}{dm dA} = \\frac{\\Sigma}{m_0}\\left(\\frac{m}{m_0}\\right)^{-\\alpha}\n",
    "\\end{equation}\n",
    "\n",
    "\\begin{equation}\n",
    "\\Sigma = 10^{\\log_{10} dNdA} \\ ; \\ m_0 = 10^{8} M_{\\odot}\n",
    "\\end{equation}"
   ]
  },
  {
   "cell_type": "code",
   "execution_count": 5,
   "id": "e14e808f-4c21-4f85-be77-4d91c40c0da5",
   "metadata": {},
   "outputs": [
    {
     "data": {
      "text/plain": [
       "(array([8.410e+02, 1.802e+03, 2.641e+03, 2.664e+03, 1.871e+03, 9.820e+02,\n",
       "        3.360e+02, 6.800e+01, 1.700e+01, 1.000e+00]),\n",
       " array([ 0.40461956,  1.46560536,  2.52659115,  3.58757695,  4.64856275,\n",
       "         5.70954854,  6.77053434,  7.83152014,  8.89250594,  9.95349173,\n",
       "        11.01447753]),\n",
       " <BarContainer object of 10 artists>)"
      ]
     },
     "execution_count": 5,
     "metadata": {},
     "output_type": "execute_result"
    },
    {
     "data": {
      "image/png": "[encoded data removed]",
      "text/plain": [
       "<Figure size 640x480 with 1 Axes>"
      ]
     },
     "metadata": {},
     "output_type": "display_data"
    }
   ],
   "source": [
    "z_cluster = 0.4 # cluster redshift\n",
    "z_source = 0.9 # source redshift \n",
    "log10_dNdA = -1.0 # the amplitude of the projected SHMF without any automatically scaling with halo mass/redshift\n",
    "log_m_host = 14.0 # apppropriate for cluster, also will increase the number of subhalos introduced through two-halo term\n",
    "opening_angle_arcsec = 8.0 \n",
    "\n",
    "# tidal truncation class\n",
    "from pyHalo.Halos.tidal_truncation import TruncationBoundMassPDF\n",
    "class TruncationBoundMassPDFCustom1(TruncationBoundMassPDF):\n",
    "    \"\"\"\n",
    "    This class uses the latest tidal stripping model by Du & Gilman et al. (2025), but skips the calculation of the bound \n",
    "    mass based on the assumption that the deflector is a massive elliptical. \n",
    "    \n",
    "    Here, we can specify the distribution of subhalo bound masses directly as a Gaussian in log10(mbound / m_infall). Then, we\n",
    "    can use the tidal tracks to get the density profile. \n",
    "\n",
    "    Just set the values of fbound mean/sigma below, for this example the assumption is that cluster subhalos are stripped to 10% \n",
    "    of their infall masses, on average, with a standard deviation of 0.5 dex in log10(m_bound / m_infall). \n",
    "    \"\"\"\n",
    "    log10_fbound_mean = -1.0\n",
    "    log10_fbound_standard_dev = 0.5\n",
    "    def __init__(self, lens_cosmo):\n",
    "        super(TruncationBoundMassPDFCustom1, self).__init__(lens_cosmo, self.log10_fbound_mean, self.log10_fbound_standard_dev)\n",
    " \n",
    "cluster_cdm = CDM(z_cluster, z_source, \n",
    "                  log10_dNdA=log10_dNdA, cone_opening_angle_arcsec=opening_angle_arcsec,\n",
    "                  log_m_host=log_m_host, \n",
    "                 truncation_model_subhalos=TruncationBoundMassPDFCustom1,\n",
    "                  infall_redshift_model='DIRECT_INFALL_CLUSTER'\n",
    "                 )"
   ]
  },
  {
   "cell_type": "code",
   "execution_count": null,
   "id": "e9e6d82a-9037-4007-b48a-d1695510db6b",
   "metadata": {},
   "outputs": [],
   "source": [
    "kappa_scale_subhalos = 10 ** -1.0  # the average subhalo bound mass is now 10^log10_fbound_mean lower, so we rescale mass sheets accoringly\n",
    "kwargs_mass_sheet = {'kappa_scale_subhalos': kappa_scale_subhalos}\n",
    "lens_model_list, lens_redshift_list, kwargs_halos, _ = cluster_cdm.lensing_quantities(kwargs_mass_sheet=kwargs_mass_sheet)"
   ]
  },
  {
   "cell_type": "code",
   "execution_count": null,
   "id": "44e504c5-c2d5-458b-ac57-7a25e4786de3",
   "metadata": {},
   "outputs": [],
   "source": [
    "from lenstronomy.LensModel.lens_model import LensModel\n",
    "\n",
    "_r = np.linspace(-2, 2, 100)\n",
    "_xx, _yy = np.meshgrid(_r, _r)\n",
    "lens_model = LensModel(lens_model_list, lens_redshift_list=list(lens_redshift_list),\n",
    "                      z_source=z_source, multi_plane=True)\n",
    "kappa = lens_model.kappa(_xx.ravel(), _yy.ravel(), kwargs_halos)\n",
    "\n",
    "plt.imshow(kappa.reshape(100, 100),vmin=-0.05, vmax=0.05, cmap='bwr')"
   ]
  },
  {
   "cell_type": "markdown",
   "id": "381d4511-bbb2-48bd-a848-7755f89448e1",
   "metadata": {},
   "source": [
    "### Subhalo properties \n",
    "\n",
    "Each realization is composed of a large number of Halo classes, from which we can access quantities related to the denstiy profile. In the case of NFW profiles and the tidal stripping model used above, we can look at the density normalization and scale radius (evaluated at infall), and the evolved density normalization after tidal stripping, following the model presented by Du and Gilman et al. (2025). "
   ]
  },
  {
   "cell_type": "code",
   "execution_count": null,
   "id": "651a26bc-6cd5-4e9d-96c9-620541c3f6f7",
   "metadata": {},
   "outputs": [],
   "source": [
    "rhos_infall = []\n",
    "rhos_evolved = []\n",
    "rs_infall = []\n",
    "\n",
    "f_t, tau = [], []\n",
    "bound_mass = []\n",
    "infall_mass = []\n",
    "\n",
    "for halo in cluster_cdm.halos:\n",
    "    if halo.is_subhalo:\n",
    "        _rhos_infall, _rs_infall, _ = halo.nfw_params # units are all M_sun and kpc\n",
    "        _rho_evolved = _rhos_infall * halo._rescale_norm\n",
    "        rhos_infall.append(_rhos_infall)\n",
    "        rhos_evolved.append(_rho_evolved)\n",
    "        rs_infall.append(_rs_infall)\n",
    "        f_t.append(halo.rescale_norm) # this is an overall rescaling of the profile \n",
    "        _, r_t = halo.profile_args # this it r_t parameter, just the truncation radius\n",
    "        tau.append(r_t/_rs_infall) # truncation in units of halo scale radius\n",
    "        bound_mass.append(halo.bound_mass)\n",
    "        infall_mass.append(halo.mass)\n",
    "\n",
    "fig = plt.figure(1)\n",
    "ax1 = plt.subplot(111)\n",
    "ax1.scatter(rhos_infall, rs_infall,s=1,alpha=0.5,color='k')\n",
    "ax1.set_xscale('log')\n",
    "ax1.set_yscale('log')\n",
    "\n",
    "ax1.scatter(rhos_evolved, rs_infall,s=1,color='r',alpha=0.5)\n",
    "ax1.set_xscale('log')\n",
    "ax1.set_yscale('log')\n",
    "ax1.set_xlabel(r'$\\rho_s$',fontsize=20)\n",
    "ax1.set_ylabel(r'$r_s$',fontsize=20)\n",
    "plt.show()\n",
    "\n",
    "fig = plt.figure(2)\n",
    "sigma_crit = cluster_cdm.lens_cosmo.sigma_crit_lens_kpc # units M_sun / kpc^2\n",
    "print(np.log10(sigma_crit))\n",
    "kappa_sub = np.array(rhos_infall) * np.array(rs_infall) / sigma_crit\n",
    "plt.hist(np.log10(kappa_sub),color='k')\n",
    "plt.xlabel(r'$\\log_{10} \\left(\\Sigma / \\Sigma_{\\rm{crit}}\\right)$',fontsize=20)\n",
    "plt.show() \n",
    "\n",
    "plt.figure(3)\n",
    "plt.hist(f_t,range=(0.1, 1),bins=20)\n",
    "plt.xlabel('f_t',fontsize=18)\n",
    "\n",
    "plt.figure(4)\n",
    "plt.hist(tau,bins=20,range=(0.1, 5))\n",
    "plt.xlabel('rt / rs',fontsize=18)\n",
    "\n",
    "plt.figure(5)\n",
    "ax = plt.subplot(111)\n",
    "f_bound = np.array(bound_mass)/np.array(infall_mass)\n",
    "f_t = np.array(f_t)\n",
    "ax.scatter(f_bound, f_t)\n",
    "ax.set_xscale('log')\n",
    "ax.set_xlabel('m_bound / m_infall',fontsize=18)\n",
    "ax.set_ylabel('f_t',fontsize=18)\n",
    "\n",
    "plt.figure(6)\n",
    "ax = plt.subplot(111)\n",
    "f_t = np.array(f_t)\n",
    "ax.scatter(f_bound, tau)\n",
    "ax.set_xscale('log')\n",
    "ax.set_yscale('log')\n",
    "ax.set_xlabel('m_bound / m_infall',fontsize=18)\n",
    "ax.set_ylabel('r_t / r_s',fontsize=18)"
   ]
  },
  {
   "cell_type": "markdown",
   "id": "83c67fc3-cbac-43fe-9b94-878a0b2eb304",
   "metadata": {},
   "source": [
    "### Self-interacting dark matter\n",
    "\n",
    "The simplest way to use SIDM is simply to translate the CDM population into an SIDM population parameterized by the fraction of core-collapsed halos in different mass bins"
   ]
  },
  {
   "cell_type": "code",
   "execution_count": null,
   "id": "a204c377-61ae-4454-9fb1-6e1cbb6094d7",
   "metadata": {},
   "outputs": [],
   "source": [
    "from pyHalo.realization_extensions import RealizationExtensions\n",
    "\n",
    "ext = RealizationExtensions(cluster_cdm)\n",
    "collapsed_halo_profile='TNFWC'\n",
    "x_core_halo = 0.05\n",
    "kwargs_collapsed_profile={'x_core_halo': x_core_halo}\n",
    "mass_ranges_subhalos = [[6, 8], [8, 10]] # mass ranges in log10 M; for subhalos we refer to infall mass\n",
    "mass_ranges_fieldhalos = mass_ranges_subhalos\n",
    "collapse_fraction_subhalos = [0.8, 0.5] # the fraction of collapsed subhalos in each bin\n",
    "collapse_fraction_fieldhalos = [0.5, 0.1] # the fraction of collapsed field halos in each bin\n",
    "index_core_collapsed = ext.core_collapse_by_mass(mass_ranges_subhalos, mass_ranges_fieldhalos,\n",
    "                              collapse_fraction_subhalos, collapse_fraction_fieldhalos) \n",
    "cluster_sidm = ext.add_core_collapsed_halos(index_core_collapsed, \n",
    "                                            halo_profile=collapsed_halo_profile,\n",
    "                                            **kwargs_collapsed_profile)"
   ]
  },
  {
   "cell_type": "code",
   "execution_count": null,
   "id": "73d4b3a7-5ad3-47a3-882b-1e16d8071df9",
   "metadata": {},
   "outputs": [],
   "source": [
    "lens_model_list_sidm, lens_redshift_list_sidm, kwargs_halos_sidm, _ = cluster_sidm.lensing_quantities(kwargs_mass_sheet=kwargs_mass_sheet)\n",
    "lens_model_sidm = LensModel(lens_model_list_sidm, lens_redshift_list=list(lens_redshift_list_sidm),\n",
    "                      z_source=z_source, multi_plane=True)\n",
    "kappa = lens_model_sidm.kappa(_xx.ravel(), _yy.ravel(), kwargs_halos_sidm)\n",
    "plt.imshow(kappa.reshape(100, 100),vmin=-0.05, vmax=0.05, cmap='bwr')"
   ]
  },
  {
   "cell_type": "markdown",
   "id": "3e511646-bc5a-458d-80d2-ab5742447e37",
   "metadata": {},
   "source": [
    "### Warm dark matter  \n",
    "\n",
    "Use the preset model"
   ]
  },
  {
   "cell_type": "code",
   "execution_count": null,
   "id": "902b2781-d1a3-4312-a1ed-a3a56cad3ad5",
   "metadata": {},
   "outputs": [],
   "source": [
    "from pyHalo.PresetModels.wdm import WDM \n",
    "\n",
    "log10_half_mode_mass = 8.0\n",
    "cluster_wdm = WDM(z_cluster, z_source, log_mc=log10_half_mode_mass,\n",
    "                  log10_dNdA=log10_dNdA, cone_opening_angle_arcsec=opening_angle_arcsec,\n",
    "                  log_m_host=log_m_host, \n",
    "                 truncation_model_subhalos=TruncationBoundMassPDFCustom1)\n",
    "\n",
    "lens_model_list_wdm, lens_redshift_list_wdm, kwargs_halos_wdm, _ = cluster_wdm.lensing_quantities(kwargs_mass_sheet=kwargs_mass_sheet)\n",
    "lens_model_wdm = LensModel(lens_model_list_wdm, lens_redshift_list=list(lens_redshift_list_wdm),\n",
    "                      z_source=z_source, multi_plane=True)\n",
    "kappa = lens_model_wdm.kappa(_xx.ravel(), _yy.ravel(), kwargs_halos_wdm)\n",
    "plt.imshow(kappa.reshape(100, 100),vmin=-0.05, vmax=0.05, cmap='bwr')"
   ]
  },
  {
   "cell_type": "markdown",
   "id": "61a3d4af-56d2-47c3-9616-cf5e1d40eccb",
   "metadata": {},
   "source": [
    "### Fuzzy DM "
   ]
  },
  {
   "cell_type": "code",
   "execution_count": null,
   "id": "c852b391-86a1-49c5-b38f-4dfc8154f21c",
   "metadata": {},
   "outputs": [],
   "source": [
    "from pyHalo.PresetModels.uldm import ULDM \n",
    "from lenstronomy.LensModel.lens_model import LensModel\n",
    "\n",
    "log10_m_uldm = -21.5\n",
    "log10_dNdA = -1.0\n",
    "fluctuation_aperture = 1.0\n",
    "n_cut = 600000\n",
    "# center the fluctuations at (0, 0)\n",
    "flucs_args = {'x_images': [0.0], 'y_images': [0.0], 'aperture': fluctuation_aperture}\n",
    "cluster_uldm = ULDM(z_cluster, z_source, log10_m_uldm=log10_m_uldm,\n",
    "                  log10_dNdA=log10_dNdA, cone_opening_angle_arcsec=opening_angle_arcsec,\n",
    "                  log_m_host=log_m_host, flucs_args=flucs_args, mdef_halos='TNFW', # use regular TNFW profiles\n",
    "                 truncation_model_subhalos=TruncationBoundMassPDFCustom1,\n",
    "                   n_cut=n_cut)\n",
    "\n",
    "kappa_scale_subhalos = 10 ** -1.0  # the average subhalo bound mass is now 10^log10_fbound_mean lower, so we rescale mass sheets accoringly\n",
    "kwargs_mass_sheet = {'kappa_scale_subhalos': kappa_scale_subhalos}\n",
    "lens_model_list_uldm, lens_redshift_list_uldm, kwargs_halos_uldm, _ = cluster_uldm.lensing_quantities(kwargs_mass_sheet=kwargs_mass_sheet)\n",
    "lens_model_uldm = LensModel(lens_model_list_uldm, lens_redshift_list=list(lens_redshift_list_uldm),\n",
    "                      z_source=z_source, multi_plane=True)\n",
    "\n",
    "npix = 100\n",
    "_r = np.linspace(-fluctuation_aperture, fluctuation_aperture, npix)\n",
    "_xx, _yy = np.meshgrid(_r, _r)\n",
    "kappa = lens_model_uldm.kappa(_xx.ravel(), _yy.ravel(), kwargs_halos_uldm)"
   ]
  },
  {
   "cell_type": "code",
   "execution_count": null,
   "id": "986c5535-91ea-4228-bea1-6162e015e097",
   "metadata": {},
   "outputs": [],
   "source": [
    "vmin_max = 0.25\n",
    "plt.imshow(kappa.reshape(npix, npix),vmin=-vmin_max, vmax=vmin_max, cmap='bwr')"
   ]
  },
  {
   "cell_type": "code",
   "execution_count": null,
   "id": "4aff95cc-1d5f-4883-b2eb-4aff9434a500",
   "metadata": {},
   "outputs": [],
   "source": [
    "lens_cosmo =  cluster_cdm.lens_cosmo \n",
    "rhos, rs, _ = lens_cosmo.NFW_params_physical(10**6, 50, 0.0)\n",
    "print(np.log10(rhos*rs))"
   ]
  },
  {
   "cell_type": "code",
   "execution_count": null,
   "id": "0b49e288-1327-4bbb-a767-da07dd1a7519",
   "metadata": {},
   "outputs": [],
   "source": []
  }
 ],
 "metadata": {
  "kernelspec": {
   "display_name": "Python 3",
   "language": "python",
   "name": "python3"
  },
  "language_info": {
   "codemirror_mode": {
    "name": "ipython",
    "version": 3
   },
   "file_extension": ".py",
   "mimetype": "text/x-python",
   "name": "python",
   "nbconvert_exporter": "python",
   "pygments_lexer": "ipython3",
   "version": "3.8.10"
  }
 },
 "nbformat": 4,
 "nbformat_minor": 5
}
